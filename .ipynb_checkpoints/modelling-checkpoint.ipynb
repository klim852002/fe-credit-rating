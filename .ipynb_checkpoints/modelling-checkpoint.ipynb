{
 "cells": [
  {
   "cell_type": "markdown",
   "metadata": {},
   "source": [
    "# Customer defaulting likelyhood"
   ]
  },
  {
   "cell_type": "code",
   "execution_count": 20,
   "metadata": {},
   "outputs": [],
   "source": [
    "import pandas as pd\n",
    "import matplotlib.pyplot as plt\n",
    "import numpy as np"
   ]
  },
  {
   "cell_type": "markdown",
   "metadata": {},
   "source": [
    "## Data preprocessing"
   ]
  },
  {
   "cell_type": "code",
   "execution_count": 14,
   "metadata": {},
   "outputs": [],
   "source": [
    "# Set pd options\n",
    "pd.set_option('display.max_columns', 500)"
   ]
  },
  {
   "cell_type": "code",
   "execution_count": 17,
   "metadata": {},
   "outputs": [],
   "source": [
    "# Import data\n",
    "data_0716 = pd.ExcelFile('models/FE data - 0716S.xlsx')"
   ]
  },
  {
   "cell_type": "code",
   "execution_count": 23,
   "metadata": {},
   "outputs": [
    {
     "data": {
      "text/html": [
       "<div>\n",
       "<style scoped>\n",
       "    .dataframe tbody tr th:only-of-type {\n",
       "        vertical-align: middle;\n",
       "    }\n",
       "\n",
       "    .dataframe tbody tr th {\n",
       "        vertical-align: top;\n",
       "    }\n",
       "\n",
       "    .dataframe thead th {\n",
       "        text-align: right;\n",
       "    }\n",
       "</style>\n",
       "<table border=\"1\" class=\"dataframe\">\n",
       "  <thead>\n",
       "    <tr style=\"text-align: right;\">\n",
       "      <th></th>\n",
       "      <th>NRIC</th>\n",
       "      <th>Age</th>\n",
       "      <th>Race</th>\n",
       "      <th>Sex</th>\n",
       "      <th>Nation</th>\n",
       "      <th>Address</th>\n",
       "      <th>Tel</th>\n",
       "      <th>Mth(s)</th>\n",
       "      <th>Anklet</th>\n",
       "      <th>Bangle</th>\n",
       "      <th>Bracelet</th>\n",
       "      <th>Chain</th>\n",
       "      <th>Earring</th>\n",
       "      <th>Earstud</th>\n",
       "      <th>Necklace</th>\n",
       "      <th>Pendant</th>\n",
       "      <th>Ring</th>\n",
       "      <th>O</th>\n",
       "      <th>24K</th>\n",
       "      <th>22K</th>\n",
       "      <th>20K</th>\n",
       "      <th>18K</th>\n",
       "      <th>14K</th>\n",
       "      <th>9K</th>\n",
       "      <th>W</th>\n",
       "      <th>Value ($)</th>\n",
       "      <th>Interest Payable ($)</th>\n",
       "      <th>Status</th>\n",
       "      <th>Defaulted</th>\n",
       "    </tr>\n",
       "  </thead>\n",
       "  <tbody>\n",
       "    <tr>\n",
       "      <th>0</th>\n",
       "      <td>S</td>\n",
       "      <td>51</td>\n",
       "      <td>C</td>\n",
       "      <td>F</td>\n",
       "      <td>S</td>\n",
       "      <td>H</td>\n",
       "      <td>M</td>\n",
       "      <td>1</td>\n",
       "      <td>0</td>\n",
       "      <td>0</td>\n",
       "      <td>0</td>\n",
       "      <td>0</td>\n",
       "      <td>0</td>\n",
       "      <td>0</td>\n",
       "      <td>0</td>\n",
       "      <td>1</td>\n",
       "      <td>0</td>\n",
       "      <td>0</td>\n",
       "      <td>0.0</td>\n",
       "      <td>20.0</td>\n",
       "      <td>0.0</td>\n",
       "      <td>0.0</td>\n",
       "      <td>0</td>\n",
       "      <td>0.0</td>\n",
       "      <td>0.0</td>\n",
       "      <td>1100</td>\n",
       "      <td>11</td>\n",
       "      <td>C</td>\n",
       "      <td>False</td>\n",
       "    </tr>\n",
       "    <tr>\n",
       "      <th>1</th>\n",
       "      <td>S</td>\n",
       "      <td>25</td>\n",
       "      <td>I</td>\n",
       "      <td>M</td>\n",
       "      <td>S</td>\n",
       "      <td>H</td>\n",
       "      <td>M</td>\n",
       "      <td>7</td>\n",
       "      <td>0</td>\n",
       "      <td>0</td>\n",
       "      <td>0</td>\n",
       "      <td>0</td>\n",
       "      <td>0</td>\n",
       "      <td>2</td>\n",
       "      <td>0</td>\n",
       "      <td>0</td>\n",
       "      <td>0</td>\n",
       "      <td>0</td>\n",
       "      <td>0.0</td>\n",
       "      <td>2.5</td>\n",
       "      <td>0.0</td>\n",
       "      <td>0.0</td>\n",
       "      <td>0</td>\n",
       "      <td>0.0</td>\n",
       "      <td>0.0</td>\n",
       "      <td>110</td>\n",
       "      <td>11.55</td>\n",
       "      <td>L</td>\n",
       "      <td>False</td>\n",
       "    </tr>\n",
       "    <tr>\n",
       "      <th>2</th>\n",
       "      <td>S</td>\n",
       "      <td>51</td>\n",
       "      <td>C</td>\n",
       "      <td>F</td>\n",
       "      <td>S</td>\n",
       "      <td>H</td>\n",
       "      <td>M</td>\n",
       "      <td>6</td>\n",
       "      <td>0</td>\n",
       "      <td>0</td>\n",
       "      <td>0</td>\n",
       "      <td>0</td>\n",
       "      <td>0</td>\n",
       "      <td>0</td>\n",
       "      <td>1</td>\n",
       "      <td>0</td>\n",
       "      <td>0</td>\n",
       "      <td>0</td>\n",
       "      <td>0.0</td>\n",
       "      <td>49.3</td>\n",
       "      <td>0.0</td>\n",
       "      <td>0.0</td>\n",
       "      <td>0</td>\n",
       "      <td>0.0</td>\n",
       "      <td>0.0</td>\n",
       "      <td>2170</td>\n",
       "      <td>195.3</td>\n",
       "      <td>C</td>\n",
       "      <td>False</td>\n",
       "    </tr>\n",
       "    <tr>\n",
       "      <th>3</th>\n",
       "      <td>S</td>\n",
       "      <td>51</td>\n",
       "      <td>C</td>\n",
       "      <td>F</td>\n",
       "      <td>S</td>\n",
       "      <td>H</td>\n",
       "      <td>M</td>\n",
       "      <td>6</td>\n",
       "      <td>0</td>\n",
       "      <td>0</td>\n",
       "      <td>0</td>\n",
       "      <td>1</td>\n",
       "      <td>0</td>\n",
       "      <td>0</td>\n",
       "      <td>0</td>\n",
       "      <td>0</td>\n",
       "      <td>0</td>\n",
       "      <td>0</td>\n",
       "      <td>0.0</td>\n",
       "      <td>37.9</td>\n",
       "      <td>0.0</td>\n",
       "      <td>0.0</td>\n",
       "      <td>0</td>\n",
       "      <td>0.0</td>\n",
       "      <td>0.0</td>\n",
       "      <td>1550</td>\n",
       "      <td>139.5</td>\n",
       "      <td>C</td>\n",
       "      <td>False</td>\n",
       "    </tr>\n",
       "    <tr>\n",
       "      <th>4</th>\n",
       "      <td>S</td>\n",
       "      <td>51</td>\n",
       "      <td>C</td>\n",
       "      <td>M</td>\n",
       "      <td>S</td>\n",
       "      <td>C</td>\n",
       "      <td>M</td>\n",
       "      <td>1</td>\n",
       "      <td>0</td>\n",
       "      <td>0</td>\n",
       "      <td>0</td>\n",
       "      <td>0</td>\n",
       "      <td>0</td>\n",
       "      <td>0</td>\n",
       "      <td>0</td>\n",
       "      <td>0</td>\n",
       "      <td>0</td>\n",
       "      <td>1</td>\n",
       "      <td>0.0</td>\n",
       "      <td>0.0</td>\n",
       "      <td>0.0</td>\n",
       "      <td>0.0</td>\n",
       "      <td>0</td>\n",
       "      <td>0.0</td>\n",
       "      <td>129.6</td>\n",
       "      <td>10000</td>\n",
       "      <td>100</td>\n",
       "      <td>C</td>\n",
       "      <td>False</td>\n",
       "    </tr>\n",
       "  </tbody>\n",
       "</table>\n",
       "</div>"
      ],
      "text/plain": [
       "  NRIC  Age Race Sex Nation Address Tel Mth(s)  Anklet  Bangle  Bracelet  \\\n",
       "0    S   51    C   F      S       H   M      1       0       0         0   \n",
       "1    S   25    I   M      S       H   M      7       0       0         0   \n",
       "2    S   51    C   F      S       H   M      6       0       0         0   \n",
       "3    S   51    C   F      S       H   M      6       0       0         0   \n",
       "4    S   51    C   M      S       C   M      1       0       0         0   \n",
       "\n",
       "   Chain  Earring  Earstud  Necklace  Pendant  Ring  O  24K   22K  20K  18K  \\\n",
       "0      0        0        0         0        1     0  0  0.0  20.0  0.0  0.0   \n",
       "1      0        0        2         0        0     0  0  0.0   2.5  0.0  0.0   \n",
       "2      0        0        0         1        0     0  0  0.0  49.3  0.0  0.0   \n",
       "3      1        0        0         0        0     0  0  0.0  37.9  0.0  0.0   \n",
       "4      0        0        0         0        0     0  1  0.0   0.0  0.0  0.0   \n",
       "\n",
       "   14K   9K      W  Value ($) Interest Payable ($) Status  Defaulted  \n",
       "0    0  0.0    0.0       1100                   11      C      False  \n",
       "1    0  0.0    0.0        110                11.55      L      False  \n",
       "2    0  0.0    0.0       2170                195.3      C      False  \n",
       "3    0  0.0    0.0       1550                139.5      C      False  \n",
       "4    0  0.0  129.6      10000                  100      C      False  "
      ]
     },
     "execution_count": 23,
     "metadata": {},
     "output_type": "execute_result"
    }
   ],
   "source": [
    "all_data = pd.read_excel(data_0716, '0716SDL')\n",
    "all_data.head()"
   ]
  },
  {
   "cell_type": "code",
   "execution_count": 24,
   "metadata": {},
   "outputs": [
    {
     "name": "stdout",
     "output_type": "stream",
     "text": [
      "<class 'pandas.core.frame.DataFrame'>\n",
      "RangeIndex: 73 entries, 0 to 72\n",
      "Data columns (total 29 columns):\n",
      "NRIC                    73 non-null object\n",
      "Age                     73 non-null int64\n",
      "Race                    73 non-null object\n",
      "Sex                     73 non-null object\n",
      "Nation                  73 non-null object\n",
      "Address                 73 non-null object\n",
      "Tel                     73 non-null object\n",
      "Mth(s)                  73 non-null object\n",
      "Anklet                  73 non-null int64\n",
      "Bangle                  73 non-null int64\n",
      "Bracelet                73 non-null int64\n",
      "Chain                   73 non-null int64\n",
      "Earring                 73 non-null int64\n",
      "Earstud                 73 non-null int64\n",
      "Necklace                73 non-null int64\n",
      "Pendant                 73 non-null int64\n",
      "Ring                    73 non-null int64\n",
      "O                       73 non-null int64\n",
      "24K                     73 non-null float64\n",
      "22K                     73 non-null float64\n",
      "20K                     73 non-null float64\n",
      "18K                     73 non-null float64\n",
      "14K                     73 non-null int64\n",
      "9K                      73 non-null float64\n",
      "W                       73 non-null float64\n",
      "Value ($)               73 non-null int64\n",
      "Interest Payable ($)    73 non-null object\n",
      "Status                  73 non-null object\n",
      "Defaulted               73 non-null bool\n",
      "dtypes: bool(1), float64(6), int64(13), object(9)\n",
      "memory usage: 16.1+ KB\n"
     ]
    }
   ],
   "source": [
    "all_data.info()"
   ]
  },
  {
   "cell_type": "code",
   "execution_count": 21,
   "metadata": {},
   "outputs": [],
   "source": [
    "# late_only_data = pd.read_excel(data_0716, '0716SL')\n",
    "# late_only_data.head()"
   ]
  },
  {
   "cell_type": "markdown",
   "metadata": {},
   "source": [
    "**all_data** contains data from closed, defaulted and late customers, where as **late_only_data** contains only for late   "
   ]
  },
  {
   "cell_type": "code",
   "execution_count": 30,
   "metadata": {},
   "outputs": [],
   "source": [
    "# Drop unecessary features\n",
    "features_to_drop = [\"Defaulted\"]\n",
    "all_data = all_data.drop(features_to_drop, axis=1)"
   ]
  },
  {
   "cell_type": "code",
   "execution_count": 31,
   "metadata": {},
   "outputs": [],
   "source": [
    "# Get dependent and independent variables\n",
    "X = all_data.iloc[:, :-1].values\n",
    "Y = all_data.iloc[:, -1].values"
   ]
  },
  {
   "cell_type": "markdown",
   "metadata": {},
   "source": [
    "## Model 1: Including item types"
   ]
  },
  {
   "cell_type": "markdown",
   "metadata": {},
   "source": [
    "## Model 2: Excluding item types (except watch)"
   ]
  },
  {
   "cell_type": "markdown",
   "metadata": {},
   "source": [
    "## Model 3: Excluding all item types"
   ]
  },
  {
   "cell_type": "code",
   "execution_count": 32,
   "metadata": {},
   "outputs": [
    {
     "data": {
      "text/plain": [
       "array([['S', 51, 'C', ..., 0.0, 1100, 11],\n",
       "       ['S', 25, 'I', ..., 0.0, 110, 11.55],\n",
       "       ['S', 51, 'C', ..., 0.0, 2170, 195.3],\n",
       "       ...,\n",
       "       ['S', 51, 'M', ..., 0.0, 95, '-'],\n",
       "       ['S', 51, 'I', ..., 0.0, 150, '-'],\n",
       "       ['S', 40, 'M', ..., 0.0, 2600, '-']], dtype=object)"
      ]
     },
     "execution_count": 32,
     "metadata": {},
     "output_type": "execute_result"
    }
   ],
   "source": [
    "X"
   ]
  },
  {
   "cell_type": "code",
   "execution_count": 33,
   "metadata": {},
   "outputs": [
    {
     "data": {
      "text/plain": [
       "array(['C', 'L', 'C', 'C', 'C', 'C', 'C', 'L', 'L', 'C', 'C', 'L', 'C',\n",
       "       'L', 'C', 'L', 'L', 'D', 'L', 'L', 'L', 'C', 'L', 'C', 'C', 'C',\n",
       "       'D', 'C', 'C', 'D', 'D', 'D', 'D', 'D', 'D', 'D', 'D', 'D', 'D',\n",
       "       'D', 'D', 'D', 'D', 'D', 'D', 'D', 'D', 'D', 'D', 'D', 'D', 'D',\n",
       "       'D', 'D', 'D', 'D', 'D', 'D', 'D', 'D', 'D', 'D', 'D', 'D', 'D',\n",
       "       'D', 'D', 'D', 'D', 'D', 'D', 'D', 'D'], dtype=object)"
      ]
     },
     "execution_count": 33,
     "metadata": {},
     "output_type": "execute_result"
    }
   ],
   "source": [
    "Y"
   ]
  },
  {
   "cell_type": "code",
   "execution_count": null,
   "metadata": {},
   "outputs": [],
   "source": []
  }
 ],
 "metadata": {
  "kernelspec": {
   "display_name": "fundexpress",
   "language": "python",
   "name": "fundexpress"
  },
  "language_info": {
   "codemirror_mode": {
    "name": "ipython",
    "version": 3
   },
   "file_extension": ".py",
   "mimetype": "text/x-python",
   "name": "python",
   "nbconvert_exporter": "python",
   "pygments_lexer": "ipython3",
   "version": "3.6.6rc1"
  }
 },
 "nbformat": 4,
 "nbformat_minor": 2
}
